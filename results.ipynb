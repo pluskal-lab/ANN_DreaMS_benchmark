{
 "cells": [
  {
   "cell_type": "code",
   "execution_count": 1,
   "metadata": {},
   "outputs": [],
   "source": [
    "import pandas as pd\n",
    "from pathlib import Path"
   ]
  },
  {
   "cell_type": "code",
   "execution_count": 2,
   "metadata": {},
   "outputs": [
    {
     "data": {
      "text/html": [
       "<div>\n",
       "<style scoped>\n",
       "    .dataframe tbody tr th:only-of-type {\n",
       "        vertical-align: middle;\n",
       "    }\n",
       "\n",
       "    .dataframe tbody tr th {\n",
       "        vertical-align: top;\n",
       "    }\n",
       "\n",
       "    .dataframe thead th {\n",
       "        text-align: right;\n",
       "    }\n",
       "</style>\n",
       "<table border=\"1\" class=\"dataframe\">\n",
       "  <thead>\n",
       "    <tr style=\"text-align: right;\">\n",
       "      <th></th>\n",
       "      <th>index_backend</th>\n",
       "      <th>dataset_name</th>\n",
       "      <th>peak_memory [MB]</th>\n",
       "      <th>execution_time [s]</th>\n",
       "      <th>Recall @ 1 mean</th>\n",
       "      <th>Recall @ 1 std</th>\n",
       "      <th>Recall @ 10 mean</th>\n",
       "      <th>Recall @ 10 std</th>\n",
       "      <th>Query time mean [s]</th>\n",
       "      <th>Query time std [s]</th>\n",
       "    </tr>\n",
       "  </thead>\n",
       "  <tbody>\n",
       "    <tr>\n",
       "      <th>0</th>\n",
       "      <td>pynndescent</td>\n",
       "      <td>GeMS_A1_DreaMS_rand50k</td>\n",
       "      <td>1066.8125</td>\n",
       "      <td>18.471229</td>\n",
       "      <td>0.932</td>\n",
       "      <td>0.251746</td>\n",
       "      <td>0.8989</td>\n",
       "      <td>0.151818</td>\n",
       "      <td>0.006992</td>\n",
       "      <td>0.216375</td>\n",
       "    </tr>\n",
       "  </tbody>\n",
       "</table>\n",
       "</div>"
      ],
      "text/plain": [
       "  index_backend            dataset_name  peak_memory [MB]  execution_time [s]  \\\n",
       "0   pynndescent  GeMS_A1_DreaMS_rand50k         1066.8125           18.471229   \n",
       "\n",
       "   Recall @ 1 mean  Recall @ 1 std  Recall @ 10 mean  Recall @ 10 std  \\\n",
       "0            0.932        0.251746            0.8989         0.151818   \n",
       "\n",
       "   Query time mean [s]  Query time std [s]  \n",
       "0             0.006992            0.216375  "
      ]
     },
     "execution_count": 2,
     "metadata": {},
     "output_type": "execute_result"
    }
   ],
   "source": [
    "results_df = pd.concat([pd.read_csv(f) for f in Path(\"results\").glob(\"*.csv\")], ignore_index=True)\n",
    "results_df"
   ]
  }
 ],
 "metadata": {
  "kernelspec": {
   "display_name": "matchms_dev",
   "language": "python",
   "name": "python3"
  },
  "language_info": {
   "codemirror_mode": {
    "name": "ipython",
    "version": 3
   },
   "file_extension": ".py",
   "mimetype": "text/x-python",
   "name": "python",
   "nbconvert_exporter": "python",
   "pygments_lexer": "ipython3",
   "version": "3.11.0"
  }
 },
 "nbformat": 4,
 "nbformat_minor": 2
}
