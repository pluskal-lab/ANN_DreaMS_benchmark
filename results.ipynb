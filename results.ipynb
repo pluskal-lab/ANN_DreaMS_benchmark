{
 "cells": [
  {
   "cell_type": "code",
   "execution_count": 1,
   "metadata": {},
   "outputs": [],
   "source": [
    "import pandas as pd\n",
    "from pathlib import Path"
   ]
  },
  {
   "cell_type": "code",
   "execution_count": 3,
   "metadata": {},
   "outputs": [
    {
     "data": {
      "text/html": [
       "<div>\n",
       "<style scoped>\n",
       "    .dataframe tbody tr th:only-of-type {\n",
       "        vertical-align: middle;\n",
       "    }\n",
       "\n",
       "    .dataframe tbody tr th {\n",
       "        vertical-align: top;\n",
       "    }\n",
       "\n",
       "    .dataframe thead th {\n",
       "        text-align: right;\n",
       "    }\n",
       "</style>\n",
       "<table border=\"1\" class=\"dataframe\">\n",
       "  <thead>\n",
       "    <tr style=\"text-align: right;\">\n",
       "      <th></th>\n",
       "      <th>index_backend</th>\n",
       "      <th>dataset_name</th>\n",
       "      <th>Index construction memory [MB]</th>\n",
       "      <th>Index construction time [s]</th>\n",
       "      <th>Recall @ 1 mean</th>\n",
       "      <th>Recall @ 1 std</th>\n",
       "      <th>Recall @ 10 mean</th>\n",
       "      <th>Recall @ 10 std</th>\n",
       "      <th>Query time mean [s]</th>\n",
       "      <th>Query time std [s]</th>\n",
       "      <th>index_kwargs</th>\n",
       "    </tr>\n",
       "  </thead>\n",
       "  <tbody>\n",
       "    <tr>\n",
       "      <th>0</th>\n",
       "      <td>pynndescent</td>\n",
       "      <td>GeMS_A1_DreaMS_rand50k</td>\n",
       "      <td>1386.875000</td>\n",
       "      <td>8.537611</td>\n",
       "      <td>0.587</td>\n",
       "      <td>0.492373</td>\n",
       "      <td>0.5279</td>\n",
       "      <td>0.345618</td>\n",
       "      <td>0.005078</td>\n",
       "      <td>0.158421</td>\n",
       "      <td>{'k': 10}</td>\n",
       "    </tr>\n",
       "    <tr>\n",
       "      <th>1</th>\n",
       "      <td>pynndescent</td>\n",
       "      <td>GeMS_A1_DreaMS_rand50k</td>\n",
       "      <td>1765.484375</td>\n",
       "      <td>29.316459</td>\n",
       "      <td>0.968</td>\n",
       "      <td>0.176000</td>\n",
       "      <td>0.9385</td>\n",
       "      <td>0.095644</td>\n",
       "      <td>0.009887</td>\n",
       "      <td>0.306668</td>\n",
       "      <td>{'k': 100}</td>\n",
       "    </tr>\n",
       "  </tbody>\n",
       "</table>\n",
       "</div>"
      ],
      "text/plain": [
       "  index_backend            dataset_name  Index construction memory [MB]  \\\n",
       "0   pynndescent  GeMS_A1_DreaMS_rand50k                     1386.875000   \n",
       "1   pynndescent  GeMS_A1_DreaMS_rand50k                     1765.484375   \n",
       "\n",
       "   Index construction time [s]  Recall @ 1 mean  Recall @ 1 std  \\\n",
       "0                     8.537611            0.587        0.492373   \n",
       "1                    29.316459            0.968        0.176000   \n",
       "\n",
       "   Recall @ 10 mean  Recall @ 10 std  Query time mean [s]  Query time std [s]  \\\n",
       "0            0.5279         0.345618             0.005078            0.158421   \n",
       "1            0.9385         0.095644             0.009887            0.306668   \n",
       "\n",
       "  index_kwargs  \n",
       "0    {'k': 10}  \n",
       "1   {'k': 100}  "
      ]
     },
     "execution_count": 3,
     "metadata": {},
     "output_type": "execute_result"
    }
   ],
   "source": [
    "results_df = pd.concat([pd.read_csv(f) for f in Path(\"results\").glob(\"*.csv\")], ignore_index=True)\n",
    "results_df"
   ]
  }
 ],
 "metadata": {
  "kernelspec": {
   "display_name": "matchms_dev",
   "language": "python",
   "name": "python3"
  },
  "language_info": {
   "codemirror_mode": {
    "name": "ipython",
    "version": 3
   },
   "file_extension": ".py",
   "mimetype": "text/x-python",
   "name": "python",
   "nbconvert_exporter": "python",
   "pygments_lexer": "ipython3",
   "version": "3.11.0"
  }
 },
 "nbformat": 4,
 "nbformat_minor": 2
}
